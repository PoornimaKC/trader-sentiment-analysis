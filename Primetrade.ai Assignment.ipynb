{
 "cells": [
  {
   "cell_type": "markdown",
   "id": "04d463fd-b5f3-4382-bfd4-a7ac324ffb41",
   "metadata": {},
   "source": [
    "# 🎯 Problem Statement & Dataset Summary\n",
    "\n",
    "The objective of this analysis is to explore the relationship between **Bitcoin market sentiment** and **trader performance metrics** by integrating insights from two datasets:\n",
    "\n",
    "- 🧠 **Bitcoin Market Sentiment Dataset**\n",
    "- 📊 **Historical Trader Data from Hyperliquid**\n",
    "\n",
    "The goal is to uncover how different **sentiment regimes** (e.g., *Fear*, *Greed*, *Extreme conditions*) influence key trading outcomes such as:\n",
    "\n",
    "- Profit and Loss (PnL)\n",
    "- Return on Investment (ROI)\n",
    "- Win Rate\n",
    "- Sharpe Ratio\n",
    "- Risk behavior and performance consistency\n",
    "\n",
    "Insights from this analysis can help identify:\n",
    "- Traders who thrive in specific market conditions\n",
    "- Contrarian strategies that outperform during fear phases\n",
    "- The overall impact of sentiment on trading success\n",
    "\n",
    "---\n",
    "\n",
    "## 🗂️ Dataset 1: Bitcoin Market Sentiment\n",
    "\n",
    "This dataset contains **daily market sentiment classifications** derived from the Fear-Greed index.\n",
    "\n",
    "| Column Name     | Description                                  |\n",
    "|-----------------|----------------------------------------------|\n",
    "| `date`          | Date of the sentiment record                 |\n",
    "| `classification`| Market sentiment label (e.g., Fear, Greed)   |\n",
    "| `value`         | Sentiment index value (numeric)              |\n",
    "| `timestamp`     | UNIX timestamp (not used in this analysis)   |\n",
    "\n",
    "---\n",
    "\n",
    "## 📈 Dataset 2: Historical Trader Data from Hyperliquid\n",
    "\n",
    "This dataset includes detailed trading logs of individual trader accounts.\n",
    "\n",
    "| Column Name        | Description                                            |\n",
    "|--------------------|--------------------------------------------------------|\n",
    "| `account`          | Unique trader identifier                               |\n",
    "| `symbol`           | Asset traded (e.g., BTC/USD)                           |\n",
    "| `execution price`  | Price at which the trade was executed                  |\n",
    "| `size`             | Size or volume of the trade                            |\n",
    "| `side`             | Trade direction (Buy/Sell)                             |\n",
    "| `time` / `Timestamp IST` | Timestamp of the trade (used for merging with sentiment) |\n",
    "| `start position`   | Trader’s position before executing the trade           |\n",
    "| `event`            | Trade status or event type                             |\n",
    "| `closedPnL`        | Realized profit or loss from the trade                 |\n",
    "| `leverage`         | Leverage used in the trade                             |\n",
    "\n",
    "---\n",
    "\n",
    "## 🧠 Analytical Goal\n",
    "\n",
    "This analysis bridges **emotional market sentiment** with **actual trading behavior**. By connecting trader performance to the Fear-Greed cycle, we aim to:\n",
    "\n",
    "- Identify market conditions under which traders perform best\n",
    "- Discover stable or high-performing accounts under different sentiment classes\n",
    "- Support future **data-driven trading strategies** and **risk-aware decision making**\n",
    "\n",
    "---\n"
   ]
  },
  {
   "cell_type": "markdown",
   "id": "0e5229cf-be77-4dd0-b409-d30b361c9ed7",
   "metadata": {},
   "source": [
    "# 📁 Section 1: Data Collection & Cleaning"
   ]
  },
  {
   "cell_type": "code",
   "execution_count": 1,
   "id": "3862183f-5718-4564-91b5-70052c43156e",
   "metadata": {},
   "outputs": [],
   "source": [
    "import numpy as np\n",
    "import pandas as pd\n",
    "import matplotlib.pyplot as plt\n",
    "import seaborn as sns\n",
    "pd.options.display.max_rows = 10\n",
    "\n",
    "import warnings\n",
    "warnings.filterwarnings('ignore')\n",
    "\n",
    "%matplotlib inline"
   ]
  },
  {
   "cell_type": "code",
   "execution_count": 2,
   "id": "2453bc74-3810-4f0c-bc45-f58498d45b05",
   "metadata": {},
   "outputs": [],
   "source": [
    "# Load sentiment data\n",
    "sentiment_df = pd.read_csv(r'C:\\Users\\Poornima KC\\Desktop\\Primetrade.ai Assignment\\fear_greed_index.csv')\n",
    "\n",
    "\n",
    "# Load trader data\n",
    "trader_df = pd.read_csv(r'C:\\Users\\Poornima KC\\Desktop\\Primetrade.ai Assignment\\historical_data.csv')"
   ]
  },
  {
   "cell_type": "code",
   "execution_count": 3,
   "id": "d90f9e23-6900-43e8-922e-b5b56135c4c8",
   "metadata": {},
   "outputs": [
    {
     "data": {
      "text/html": [
       "<div>\n",
       "<style scoped>\n",
       "    .dataframe tbody tr th:only-of-type {\n",
       "        vertical-align: middle;\n",
       "    }\n",
       "\n",
       "    .dataframe tbody tr th {\n",
       "        vertical-align: top;\n",
       "    }\n",
       "\n",
       "    .dataframe thead th {\n",
       "        text-align: right;\n",
       "    }\n",
       "</style>\n",
       "<table border=\"1\" class=\"dataframe\">\n",
       "  <thead>\n",
       "    <tr style=\"text-align: right;\">\n",
       "      <th></th>\n",
       "      <th>timestamp</th>\n",
       "      <th>value</th>\n",
       "      <th>classification</th>\n",
       "      <th>date</th>\n",
       "    </tr>\n",
       "  </thead>\n",
       "  <tbody>\n",
       "    <tr>\n",
       "      <th>0</th>\n",
       "      <td>1517463000</td>\n",
       "      <td>30</td>\n",
       "      <td>Fear</td>\n",
       "      <td>2018-02-01</td>\n",
       "    </tr>\n",
       "    <tr>\n",
       "      <th>1</th>\n",
       "      <td>1517549400</td>\n",
       "      <td>15</td>\n",
       "      <td>Extreme Fear</td>\n",
       "      <td>2018-02-02</td>\n",
       "    </tr>\n",
       "    <tr>\n",
       "      <th>2</th>\n",
       "      <td>1517635800</td>\n",
       "      <td>40</td>\n",
       "      <td>Fear</td>\n",
       "      <td>2018-02-03</td>\n",
       "    </tr>\n",
       "    <tr>\n",
       "      <th>3</th>\n",
       "      <td>1517722200</td>\n",
       "      <td>24</td>\n",
       "      <td>Extreme Fear</td>\n",
       "      <td>2018-02-04</td>\n",
       "    </tr>\n",
       "    <tr>\n",
       "      <th>4</th>\n",
       "      <td>1517808600</td>\n",
       "      <td>11</td>\n",
       "      <td>Extreme Fear</td>\n",
       "      <td>2018-02-05</td>\n",
       "    </tr>\n",
       "  </tbody>\n",
       "</table>\n",
       "</div>"
      ],
      "text/plain": [
       "    timestamp  value classification        date\n",
       "0  1517463000     30           Fear  2018-02-01\n",
       "1  1517549400     15   Extreme Fear  2018-02-02\n",
       "2  1517635800     40           Fear  2018-02-03\n",
       "3  1517722200     24   Extreme Fear  2018-02-04\n",
       "4  1517808600     11   Extreme Fear  2018-02-05"
      ]
     },
     "execution_count": 3,
     "metadata": {},
     "output_type": "execute_result"
    }
   ],
   "source": [
    "sentiment_df.head(5)  # display first 5 rows in the sentiment dataset"
   ]
  },
  {
   "cell_type": "code",
   "execution_count": 4,
   "id": "7117be41-49e1-4169-91f2-a46460a23766",
   "metadata": {},
   "outputs": [
    {
     "data": {
      "text/html": [
       "<div>\n",
       "<style scoped>\n",
       "    .dataframe tbody tr th:only-of-type {\n",
       "        vertical-align: middle;\n",
       "    }\n",
       "\n",
       "    .dataframe tbody tr th {\n",
       "        vertical-align: top;\n",
       "    }\n",
       "\n",
       "    .dataframe thead th {\n",
       "        text-align: right;\n",
       "    }\n",
       "</style>\n",
       "<table border=\"1\" class=\"dataframe\">\n",
       "  <thead>\n",
       "    <tr style=\"text-align: right;\">\n",
       "      <th></th>\n",
       "      <th>Account</th>\n",
       "      <th>Coin</th>\n",
       "      <th>Execution Price</th>\n",
       "      <th>Size Tokens</th>\n",
       "      <th>Size USD</th>\n",
       "      <th>Side</th>\n",
       "      <th>Timestamp IST</th>\n",
       "      <th>Start Position</th>\n",
       "      <th>Direction</th>\n",
       "      <th>Closed PnL</th>\n",
       "      <th>Transaction Hash</th>\n",
       "      <th>Order ID</th>\n",
       "      <th>Crossed</th>\n",
       "      <th>Fee</th>\n",
       "      <th>Trade ID</th>\n",
       "      <th>Timestamp</th>\n",
       "    </tr>\n",
       "  </thead>\n",
       "  <tbody>\n",
       "    <tr>\n",
       "      <th>0</th>\n",
       "      <td>0xae5eacaf9c6b9111fd53034a602c192a04e082ed</td>\n",
       "      <td>@107</td>\n",
       "      <td>7.9769</td>\n",
       "      <td>986.87</td>\n",
       "      <td>7872.16</td>\n",
       "      <td>BUY</td>\n",
       "      <td>02-12-2024 22:50</td>\n",
       "      <td>0.000000</td>\n",
       "      <td>Buy</td>\n",
       "      <td>0.0</td>\n",
       "      <td>0xec09451986a1874e3a980418412fcd0201f500c95bac...</td>\n",
       "      <td>52017706630</td>\n",
       "      <td>True</td>\n",
       "      <td>0.345404</td>\n",
       "      <td>8.950000e+14</td>\n",
       "      <td>1.730000e+12</td>\n",
       "    </tr>\n",
       "    <tr>\n",
       "      <th>1</th>\n",
       "      <td>0xae5eacaf9c6b9111fd53034a602c192a04e082ed</td>\n",
       "      <td>@107</td>\n",
       "      <td>7.9800</td>\n",
       "      <td>16.00</td>\n",
       "      <td>127.68</td>\n",
       "      <td>BUY</td>\n",
       "      <td>02-12-2024 22:50</td>\n",
       "      <td>986.524596</td>\n",
       "      <td>Buy</td>\n",
       "      <td>0.0</td>\n",
       "      <td>0xec09451986a1874e3a980418412fcd0201f500c95bac...</td>\n",
       "      <td>52017706630</td>\n",
       "      <td>True</td>\n",
       "      <td>0.005600</td>\n",
       "      <td>4.430000e+14</td>\n",
       "      <td>1.730000e+12</td>\n",
       "    </tr>\n",
       "    <tr>\n",
       "      <th>2</th>\n",
       "      <td>0xae5eacaf9c6b9111fd53034a602c192a04e082ed</td>\n",
       "      <td>@107</td>\n",
       "      <td>7.9855</td>\n",
       "      <td>144.09</td>\n",
       "      <td>1150.63</td>\n",
       "      <td>BUY</td>\n",
       "      <td>02-12-2024 22:50</td>\n",
       "      <td>1002.518996</td>\n",
       "      <td>Buy</td>\n",
       "      <td>0.0</td>\n",
       "      <td>0xec09451986a1874e3a980418412fcd0201f500c95bac...</td>\n",
       "      <td>52017706630</td>\n",
       "      <td>True</td>\n",
       "      <td>0.050431</td>\n",
       "      <td>6.600000e+14</td>\n",
       "      <td>1.730000e+12</td>\n",
       "    </tr>\n",
       "    <tr>\n",
       "      <th>3</th>\n",
       "      <td>0xae5eacaf9c6b9111fd53034a602c192a04e082ed</td>\n",
       "      <td>@107</td>\n",
       "      <td>7.9874</td>\n",
       "      <td>142.98</td>\n",
       "      <td>1142.04</td>\n",
       "      <td>BUY</td>\n",
       "      <td>02-12-2024 22:50</td>\n",
       "      <td>1146.558564</td>\n",
       "      <td>Buy</td>\n",
       "      <td>0.0</td>\n",
       "      <td>0xec09451986a1874e3a980418412fcd0201f500c95bac...</td>\n",
       "      <td>52017706630</td>\n",
       "      <td>True</td>\n",
       "      <td>0.050043</td>\n",
       "      <td>1.080000e+15</td>\n",
       "      <td>1.730000e+12</td>\n",
       "    </tr>\n",
       "    <tr>\n",
       "      <th>4</th>\n",
       "      <td>0xae5eacaf9c6b9111fd53034a602c192a04e082ed</td>\n",
       "      <td>@107</td>\n",
       "      <td>7.9894</td>\n",
       "      <td>8.73</td>\n",
       "      <td>69.75</td>\n",
       "      <td>BUY</td>\n",
       "      <td>02-12-2024 22:50</td>\n",
       "      <td>1289.488521</td>\n",
       "      <td>Buy</td>\n",
       "      <td>0.0</td>\n",
       "      <td>0xec09451986a1874e3a980418412fcd0201f500c95bac...</td>\n",
       "      <td>52017706630</td>\n",
       "      <td>True</td>\n",
       "      <td>0.003055</td>\n",
       "      <td>1.050000e+15</td>\n",
       "      <td>1.730000e+12</td>\n",
       "    </tr>\n",
       "  </tbody>\n",
       "</table>\n",
       "</div>"
      ],
      "text/plain": [
       "                                      Account  Coin  Execution Price  \\\n",
       "0  0xae5eacaf9c6b9111fd53034a602c192a04e082ed  @107           7.9769   \n",
       "1  0xae5eacaf9c6b9111fd53034a602c192a04e082ed  @107           7.9800   \n",
       "2  0xae5eacaf9c6b9111fd53034a602c192a04e082ed  @107           7.9855   \n",
       "3  0xae5eacaf9c6b9111fd53034a602c192a04e082ed  @107           7.9874   \n",
       "4  0xae5eacaf9c6b9111fd53034a602c192a04e082ed  @107           7.9894   \n",
       "\n",
       "   Size Tokens  Size USD Side     Timestamp IST  Start Position Direction  \\\n",
       "0       986.87   7872.16  BUY  02-12-2024 22:50        0.000000       Buy   \n",
       "1        16.00    127.68  BUY  02-12-2024 22:50      986.524596       Buy   \n",
       "2       144.09   1150.63  BUY  02-12-2024 22:50     1002.518996       Buy   \n",
       "3       142.98   1142.04  BUY  02-12-2024 22:50     1146.558564       Buy   \n",
       "4         8.73     69.75  BUY  02-12-2024 22:50     1289.488521       Buy   \n",
       "\n",
       "   Closed PnL                                   Transaction Hash     Order ID  \\\n",
       "0         0.0  0xec09451986a1874e3a980418412fcd0201f500c95bac...  52017706630   \n",
       "1         0.0  0xec09451986a1874e3a980418412fcd0201f500c95bac...  52017706630   \n",
       "2         0.0  0xec09451986a1874e3a980418412fcd0201f500c95bac...  52017706630   \n",
       "3         0.0  0xec09451986a1874e3a980418412fcd0201f500c95bac...  52017706630   \n",
       "4         0.0  0xec09451986a1874e3a980418412fcd0201f500c95bac...  52017706630   \n",
       "\n",
       "   Crossed       Fee      Trade ID     Timestamp  \n",
       "0     True  0.345404  8.950000e+14  1.730000e+12  \n",
       "1     True  0.005600  4.430000e+14  1.730000e+12  \n",
       "2     True  0.050431  6.600000e+14  1.730000e+12  \n",
       "3     True  0.050043  1.080000e+15  1.730000e+12  \n",
       "4     True  0.003055  1.050000e+15  1.730000e+12  "
      ]
     },
     "execution_count": 4,
     "metadata": {},
     "output_type": "execute_result"
    }
   ],
   "source": [
    "trader_df.head(5) # display first 5 rows in the trader dataset"
   ]
  },
  {
   "cell_type": "code",
   "execution_count": 5,
   "id": "40ff91e5-8dfe-44ed-9b11-05c956bab355",
   "metadata": {},
   "outputs": [
    {
     "name": "stdout",
     "output_type": "stream",
     "text": [
      "The given dataset has 2644 rows and 4 columns\n",
      "\n",
      "\n"
     ]
    }
   ],
   "source": [
    "print('The given dataset has {} rows and {} columns'.format(sentiment_df.shape[0],sentiment_df.shape[1]))\n",
    "print('\\n')"
   ]
  },
  {
   "cell_type": "code",
   "execution_count": 6,
   "id": "87c535af-0d32-4a74-b001-35db7aa4454a",
   "metadata": {},
   "outputs": [
    {
     "name": "stdout",
     "output_type": "stream",
     "text": [
      "The given dataset has 211224 rows and 16 columns\n",
      "\n",
      "\n"
     ]
    }
   ],
   "source": [
    "print('The given dataset has {} rows and {} columns'.format(trader_df.shape[0],trader_df.shape[1]))\n",
    "print('\\n')"
   ]
  },
  {
   "cell_type": "code",
   "execution_count": 7,
   "id": "579ac702-317a-4af6-8959-a7430b4bab8a",
   "metadata": {},
   "outputs": [
    {
     "name": "stdout",
     "output_type": "stream",
     "text": [
      "<class 'pandas.core.frame.DataFrame'>\n",
      "RangeIndex: 2644 entries, 0 to 2643\n",
      "Data columns (total 4 columns):\n",
      " #   Column          Non-Null Count  Dtype \n",
      "---  ------          --------------  ----- \n",
      " 0   timestamp       2644 non-null   int64 \n",
      " 1   value           2644 non-null   int64 \n",
      " 2   classification  2644 non-null   object\n",
      " 3   date            2644 non-null   object\n",
      "dtypes: int64(2), object(2)\n",
      "memory usage: 82.8+ KB\n"
     ]
    }
   ],
   "source": [
    "sentiment_df.info()"
   ]
  },
  {
   "cell_type": "code",
   "execution_count": 8,
   "id": "cca6e992-3975-4655-9e65-b1cc205efbb3",
   "metadata": {},
   "outputs": [
    {
     "name": "stdout",
     "output_type": "stream",
     "text": [
      "<class 'pandas.core.frame.DataFrame'>\n",
      "RangeIndex: 211224 entries, 0 to 211223\n",
      "Data columns (total 16 columns):\n",
      " #   Column            Non-Null Count   Dtype  \n",
      "---  ------            --------------   -----  \n",
      " 0   Account           211224 non-null  object \n",
      " 1   Coin              211224 non-null  object \n",
      " 2   Execution Price   211224 non-null  float64\n",
      " 3   Size Tokens       211224 non-null  float64\n",
      " 4   Size USD          211224 non-null  float64\n",
      " 5   Side              211224 non-null  object \n",
      " 6   Timestamp IST     211224 non-null  object \n",
      " 7   Start Position    211224 non-null  float64\n",
      " 8   Direction         211224 non-null  object \n",
      " 9   Closed PnL        211224 non-null  float64\n",
      " 10  Transaction Hash  211224 non-null  object \n",
      " 11  Order ID          211224 non-null  int64  \n",
      " 12  Crossed           211224 non-null  bool   \n",
      " 13  Fee               211224 non-null  float64\n",
      " 14  Trade ID          211224 non-null  float64\n",
      " 15  Timestamp         211224 non-null  float64\n",
      "dtypes: bool(1), float64(8), int64(1), object(6)\n",
      "memory usage: 24.4+ MB\n"
     ]
    }
   ],
   "source": [
    "trader_df.info()"
   ]
  },
  {
   "cell_type": "markdown",
   "id": "0226cc61-e199-4f9e-951e-c10b4f20b9ee",
   "metadata": {},
   "source": [
    "### 📥 Data Overview\n",
    "\n",
    "After loading the data, we examined the structure, columns, and formats. This helps verify column types, data availability, and prepare for cleaning."
   ]
  },
  {
   "cell_type": "markdown",
   "id": "ad8f47a5-8e68-4396-956c-f8cdcb40bc82",
   "metadata": {},
   "source": [
    "---\n",
    "\n",
    "# 🧼 Section 2: Date Parsing & Merge"
   ]
  },
  {
   "cell_type": "code",
   "execution_count": 9,
   "id": "5060d855-4a30-4b4b-8732-05b3216545dd",
   "metadata": {},
   "outputs": [
    {
     "data": {
      "text/plain": [
       "0    02-12-2024 22:50\n",
       "1    02-12-2024 22:50\n",
       "2    02-12-2024 22:50\n",
       "3    02-12-2024 22:50\n",
       "4    02-12-2024 22:50\n",
       "5    02-12-2024 22:50\n",
       "6    02-12-2024 22:50\n",
       "7    02-12-2024 22:50\n",
       "8    02-12-2024 22:50\n",
       "9    02-12-2024 22:50\n",
       "Name: Timestamp IST, dtype: object"
      ]
     },
     "execution_count": 9,
     "metadata": {},
     "output_type": "execute_result"
    }
   ],
   "source": [
    "# first 10 rows of Timestamp IST\n",
    "trader_df['Timestamp IST'].head(10)"
   ]
  },
  {
   "cell_type": "markdown",
   "id": "0609f424-8d77-4e41-9f60-98ef7b40d7b9",
   "metadata": {},
   "source": [
    "### 🕒 Sample Timestamp Output\n",
    "\n",
    "The first 10 rows of the `Timestamp IST` column show that all trades occurred on **02-12-2024 at 22:50**, indicating a batch of trades executed at the same time. This timestamp will later be parsed to extract the date for sentiment alignment."
   ]
  },
  {
   "cell_type": "code",
   "execution_count": 10,
   "id": "76ec6643-779f-4c47-908c-9aa326ab7546",
   "metadata": {},
   "outputs": [],
   "source": [
    "# Clean column names\n",
    "sentiment_df.columns = sentiment_df.columns.str.strip()\n",
    "trader_df.columns = trader_df.columns.str.strip()\n",
    "\n",
    "# Step 1: Parse Timestamp IST using correct format\n",
    "trader_df['Timestamp IST'] = pd.to_datetime(trader_df['Timestamp IST'], format='%d-%m-%Y %H:%M', errors='coerce')\n",
    "\n",
    "# Step 2: Extract date (without time)\n",
    "trader_df['date'] = trader_df['Timestamp IST'].dt.date\n",
    "\n",
    "# Step 3: Convert 'date' to datetime64[ns] (so it matches sentiment_df)\n",
    "trader_df['date'] = pd.to_datetime(trader_df['date'])\n"
   ]
  },
  {
   "cell_type": "code",
   "execution_count": 11,
   "id": "0a6f6d17-838f-4730-a889-24d63d9dd80a",
   "metadata": {},
   "outputs": [],
   "source": [
    "sentiment_df['date'] = pd.to_datetime(sentiment_df['date'])"
   ]
  },
  {
   "cell_type": "markdown",
   "id": "c3e0a1b9-b9c8-478a-948a-418636ca04d8",
   "metadata": {},
   "source": [
    "### ⏱️ Timestamp Parsing Fix\n",
    "\n",
    "The `Timestamp IST` column in the trader data was in the format `DD-MM-YYYY HH:MM`, which is not automatically recognized by pandas.\n",
    "\n",
    "We explicitly defined the format using `pd.to_datetime(..., format='%d-%m-%Y %H:%M')` to correctly parse it and extract the trade date. This enabled proper alignment with the sentiment dataset during merging.\n",
    "\n",
    "After re-merging:\n",
    "- Sentiment values are now correctly assigned"
   ]
  },
  {
   "cell_type": "code",
   "execution_count": 12,
   "id": "f77b4f99-2d50-41b4-9374-ef45d2a62674",
   "metadata": {},
   "outputs": [],
   "source": [
    "# Merge \n",
    "merged_df = pd.merge(trader_df, sentiment_df[['date', 'classification']], on='date', how='left')\n",
    "\n",
    "# Rename for clarity\n",
    "merged_df.rename(columns={'classification': 'sentiment', 'Closed PnL': 'pnl', 'Account': 'account'}, inplace=True)"
   ]
  },
  {
   "cell_type": "code",
   "execution_count": 13,
   "id": "cc1e0048-cfff-4ec4-8baa-7818099450a8",
   "metadata": {},
   "outputs": [
    {
     "name": "stdout",
     "output_type": "stream",
     "text": [
      "Sentiment values: ['Extreme Greed' 'Extreme Fear' 'Fear' 'Greed' 'Neutral' nan]\n",
      "Missing sentiment rows: 6\n",
      "Remaining rows: 211224\n"
     ]
    }
   ],
   "source": [
    "print(\"Sentiment values:\", merged_df['sentiment'].unique())\n",
    "print(\"Missing sentiment rows:\", merged_df['sentiment'].isnull().sum())\n",
    "print(\"Remaining rows:\", merged_df.shape[0])"
   ]
  },
  {
   "cell_type": "markdown",
   "id": "279a3726-22da-4bf4-8d62-308bcd2ab1f8",
   "metadata": {},
   "source": [
    "After aligning date formats, we successfully merged the sentiment classification into the trader dataset using the `date` field. This step enables us to analyze how performance varies under different market conditions."
   ]
  },
  {
   "cell_type": "markdown",
   "id": "20344929-ee74-4b54-bd2f-137535ca8f18",
   "metadata": {},
   "source": [
    "---\n",
    "\n",
    "# 📊 Section 3: Trader Performance Analysis\n",
    "\n",
    "Now we want to understand how trader performance varies under different sentiment classifications (e.g., Fear, Greed)."
   ]
  },
  {
   "cell_type": "markdown",
   "id": "8caa9a2a-d23d-4133-a306-d7d5088b676d",
   "metadata": {},
   "source": [
    "#### Group & Aggregate Data"
   ]
  },
  {
   "cell_type": "code",
   "execution_count": 14,
   "id": "197d8030-3383-4243-a567-8cba78f598fa",
   "metadata": {},
   "outputs": [
    {
     "data": {
      "text/html": [
       "<div>\n",
       "<style scoped>\n",
       "    .dataframe tbody tr th:only-of-type {\n",
       "        vertical-align: middle;\n",
       "    }\n",
       "\n",
       "    .dataframe tbody tr th {\n",
       "        vertical-align: top;\n",
       "    }\n",
       "\n",
       "    .dataframe thead th {\n",
       "        text-align: right;\n",
       "    }\n",
       "</style>\n",
       "<table border=\"1\" class=\"dataframe\">\n",
       "  <thead>\n",
       "    <tr style=\"text-align: right;\">\n",
       "      <th></th>\n",
       "      <th>account</th>\n",
       "      <th>sentiment</th>\n",
       "      <th>total_pnl</th>\n",
       "      <th>avg_pnl</th>\n",
       "      <th>trade_count</th>\n",
       "    </tr>\n",
       "  </thead>\n",
       "  <tbody>\n",
       "    <tr>\n",
       "      <th>0</th>\n",
       "      <td>0x083384f897ee0f19899168e3b1bec365f52a9012</td>\n",
       "      <td>Extreme Fear</td>\n",
       "      <td>1.247692e+05</td>\n",
       "      <td>1247.692214</td>\n",
       "      <td>100</td>\n",
       "    </tr>\n",
       "    <tr>\n",
       "      <th>1</th>\n",
       "      <td>0x083384f897ee0f19899168e3b1bec365f52a9012</td>\n",
       "      <td>Extreme Greed</td>\n",
       "      <td>-4.028234e+04</td>\n",
       "      <td>-42.626810</td>\n",
       "      <td>945</td>\n",
       "    </tr>\n",
       "    <tr>\n",
       "      <th>2</th>\n",
       "      <td>0x083384f897ee0f19899168e3b1bec365f52a9012</td>\n",
       "      <td>Fear</td>\n",
       "      <td>1.113374e+06</td>\n",
       "      <td>626.194346</td>\n",
       "      <td>1778</td>\n",
       "    </tr>\n",
       "    <tr>\n",
       "      <th>3</th>\n",
       "      <td>0x083384f897ee0f19899168e3b1bec365f52a9012</td>\n",
       "      <td>Greed</td>\n",
       "      <td>2.767193e+05</td>\n",
       "      <td>482.089321</td>\n",
       "      <td>574</td>\n",
       "    </tr>\n",
       "    <tr>\n",
       "      <th>4</th>\n",
       "      <td>0x083384f897ee0f19899168e3b1bec365f52a9012</td>\n",
       "      <td>Neutral</td>\n",
       "      <td>1.256501e+05</td>\n",
       "      <td>298.456334</td>\n",
       "      <td>421</td>\n",
       "    </tr>\n",
       "  </tbody>\n",
       "</table>\n",
       "</div>"
      ],
      "text/plain": [
       "                                      account      sentiment     total_pnl  \\\n",
       "0  0x083384f897ee0f19899168e3b1bec365f52a9012   Extreme Fear  1.247692e+05   \n",
       "1  0x083384f897ee0f19899168e3b1bec365f52a9012  Extreme Greed -4.028234e+04   \n",
       "2  0x083384f897ee0f19899168e3b1bec365f52a9012           Fear  1.113374e+06   \n",
       "3  0x083384f897ee0f19899168e3b1bec365f52a9012          Greed  2.767193e+05   \n",
       "4  0x083384f897ee0f19899168e3b1bec365f52a9012        Neutral  1.256501e+05   \n",
       "\n",
       "       avg_pnl  trade_count  \n",
       "0  1247.692214          100  \n",
       "1   -42.626810          945  \n",
       "2   626.194346         1778  \n",
       "3   482.089321          574  \n",
       "4   298.456334          421  "
      ]
     },
     "execution_count": 14,
     "metadata": {},
     "output_type": "execute_result"
    }
   ],
   "source": [
    "# Group by trader and sentiment type\n",
    "performance_df = merged_df.groupby(['account', 'sentiment']).agg(\n",
    "    total_pnl=('pnl', 'sum'),\n",
    "    avg_pnl=('pnl', 'mean'),\n",
    "    trade_count=('pnl', 'count')\n",
    ").reset_index()\n",
    "\n",
    "performance_df.head()\n"
   ]
  },
  {
   "cell_type": "markdown",
   "id": "63af3466-c5ab-4445-bca5-d59388c9591f",
   "metadata": {},
   "source": [
    "#### Aggregated Trader Performance by Sentiment\n",
    "\n",
    "This output shows a trader's total PnL, average PnL per trade, and number of trades grouped by sentiment class — enabling comparison of performance across market emotions."
   ]
  },
  {
   "cell_type": "markdown",
   "id": "3913298e-d6ed-42d8-9ed5-d41da086ed7e",
   "metadata": {},
   "source": [
    "#### Find Top Traders in Each Sentiment"
   ]
  },
  {
   "cell_type": "code",
   "execution_count": 15,
   "id": "ede42865-95cf-4500-8b50-7c1f4c8b52e5",
   "metadata": {},
   "outputs": [
    {
     "data": {
      "text/html": [
       "<div>\n",
       "<style scoped>\n",
       "    .dataframe tbody tr th:only-of-type {\n",
       "        vertical-align: middle;\n",
       "    }\n",
       "\n",
       "    .dataframe tbody tr th {\n",
       "        vertical-align: top;\n",
       "    }\n",
       "\n",
       "    .dataframe thead th {\n",
       "        text-align: right;\n",
       "    }\n",
       "</style>\n",
       "<table border=\"1\" class=\"dataframe\">\n",
       "  <thead>\n",
       "    <tr style=\"text-align: right;\">\n",
       "      <th></th>\n",
       "      <th>account</th>\n",
       "      <th>sentiment</th>\n",
       "      <th>total_pnl</th>\n",
       "      <th>avg_pnl</th>\n",
       "      <th>trade_count</th>\n",
       "      <th>rank</th>\n",
       "    </tr>\n",
       "  </thead>\n",
       "  <tbody>\n",
       "    <tr>\n",
       "      <th>2</th>\n",
       "      <td>0x083384f897ee0f19899168e3b1bec365f52a9012</td>\n",
       "      <td>Fear</td>\n",
       "      <td>1.113374e+06</td>\n",
       "      <td>626.194346</td>\n",
       "      <td>1778</td>\n",
       "      <td>1.0</td>\n",
       "    </tr>\n",
       "    <tr>\n",
       "      <th>143</th>\n",
       "      <td>0xbaaaf6571ab7d571043ff1e313a9609a10637864</td>\n",
       "      <td>Fear</td>\n",
       "      <td>6.208724e+05</td>\n",
       "      <td>49.921394</td>\n",
       "      <td>12437</td>\n",
       "      <td>2.0</td>\n",
       "    </tr>\n",
       "    <tr>\n",
       "      <th>67</th>\n",
       "      <td>0x513b8629fe877bb581bf244e326a047b249c4ff1</td>\n",
       "      <td>Fear</td>\n",
       "      <td>3.671662e+05</td>\n",
       "      <td>61.388767</td>\n",
       "      <td>5981</td>\n",
       "      <td>3.0</td>\n",
       "    </tr>\n",
       "    <tr>\n",
       "      <th>57</th>\n",
       "      <td>0x4acb90e786d897ecffb614dc822eb231b4ffb9f4</td>\n",
       "      <td>Fear</td>\n",
       "      <td>2.967817e+05</td>\n",
       "      <td>212.594357</td>\n",
       "      <td>1396</td>\n",
       "      <td>4.0</td>\n",
       "    </tr>\n",
       "    <tr>\n",
       "      <th>148</th>\n",
       "      <td>0xbd5fead7180a9c139fa51a103cb6a2ce86ddb5c3</td>\n",
       "      <td>Fear</td>\n",
       "      <td>2.367977e+05</td>\n",
       "      <td>200.506120</td>\n",
       "      <td>1181</td>\n",
       "      <td>5.0</td>\n",
       "    </tr>\n",
       "  </tbody>\n",
       "</table>\n",
       "</div>"
      ],
      "text/plain": [
       "                                        account sentiment     total_pnl  \\\n",
       "2    0x083384f897ee0f19899168e3b1bec365f52a9012      Fear  1.113374e+06   \n",
       "143  0xbaaaf6571ab7d571043ff1e313a9609a10637864      Fear  6.208724e+05   \n",
       "67   0x513b8629fe877bb581bf244e326a047b249c4ff1      Fear  3.671662e+05   \n",
       "57   0x4acb90e786d897ecffb614dc822eb231b4ffb9f4      Fear  2.967817e+05   \n",
       "148  0xbd5fead7180a9c139fa51a103cb6a2ce86ddb5c3      Fear  2.367977e+05   \n",
       "\n",
       "        avg_pnl  trade_count  rank  \n",
       "2    626.194346         1778   1.0  \n",
       "143   49.921394        12437   2.0  \n",
       "67    61.388767         5981   3.0  \n",
       "57   212.594357         1396   4.0  \n",
       "148  200.506120         1181   5.0  "
      ]
     },
     "execution_count": 15,
     "metadata": {},
     "output_type": "execute_result"
    }
   ],
   "source": [
    "# Rank traders within each sentiment group\n",
    "performance_df['rank'] = performance_df.groupby('sentiment')['total_pnl'].rank(ascending=False)\n",
    "\n",
    "# View top 5 traders in 'Fear' sentiment\n",
    "performance_df[(performance_df['sentiment'] == 'Fear')].sort_values(by='total_pnl', ascending=False).head()"
   ]
  },
  {
   "cell_type": "markdown",
   "id": "2818123c-9497-462e-a7a3-f70b30ef7417",
   "metadata": {},
   "source": [
    "### 📊 Trader Performance by Sentiment\n",
    "\n",
    "We grouped trades by `account` and `sentiment` to calculate:\n",
    "- Total PnL\n",
    "- Average PnL per trade\n",
    "- Number of trades executed\n",
    "\n",
    "This gives insight into how each trader performs under different market conditions (e.g., Fear vs Greed). We also ranked traders within each sentiment group to highlight consistent top performers."
   ]
  },
  {
   "cell_type": "markdown",
   "id": "64909c5b-fcd1-43fe-ac32-de72dcd73a46",
   "metadata": {},
   "source": [
    "### 🔍 Missing Value Check – Sentiment Column"
   ]
  },
  {
   "cell_type": "code",
   "execution_count": 16,
   "id": "42892095-dbb9-4afb-8565-e5e3acc703d9",
   "metadata": {},
   "outputs": [
    {
     "name": "stdout",
     "output_type": "stream",
     "text": [
      "0\n",
      "6\n",
      "['Extreme Greed' 'Extreme Fear' 'Fear' 'Greed' 'Neutral' nan]\n"
     ]
    }
   ],
   "source": [
    "# Check nulls\n",
    "print(merged_df['pnl'].isnull().sum())\n",
    "print(merged_df['sentiment'].isnull().sum())\n",
    "\n",
    "# Check unique sentiments\n",
    "print(merged_df['sentiment'].unique())"
   ]
  },
  {
   "cell_type": "markdown",
   "id": "1e58feb5-e8e6-424e-adbd-90637b57153f",
   "metadata": {},
   "source": [
    "We performed a missing value check on the merged dataset to verify if the `sentiment` (i.e., market classification like Fear, Greed) successfully merged with the trader data.\n",
    "\n",
    "**Output:**\n",
    "- Number of missing values in `pnl`: `0` → All PnL values are intact.\n",
    "- Number of missing values in `sentiment`: `211,224` → All rows are missing sentiment information.\n",
    "- Unique sentiment values: ['Extreme Greed' 'Extreme Fear' 'Fear' 'Greed' 'Neutral' nan]\n",
    "\n",
    "**Interpretation:**\n",
    "This indicates that the sentiment data did not correctly merge with the trader data — likely due to a mismatch in the `date` formats or values between the two datasets.\n",
    "\n",
    "---\n",
    "\n",
    "✅ **Next Step:**\n",
    "We'll inspect and align the date formats in both datasets to ensure a proper merge can happen. This will allow each trade to be associated with the correct market sentiment.\n"
   ]
  },
  {
   "cell_type": "code",
   "execution_count": 17,
   "id": "9548f99c-ae62-4a35-bb01-4958e5a00fef",
   "metadata": {},
   "outputs": [
    {
     "name": "stdout",
     "output_type": "stream",
     "text": [
      "Trader dates: 2023-05-01 00:00:00 to 2025-05-01 00:00:00\n",
      "Sentiment dates: 2018-02-01 00:00:00 to 2025-05-02 00:00:00\n"
     ]
    }
   ],
   "source": [
    "# Check Date Ranges\n",
    "\n",
    "print(\"Trader dates:\", trader_df['date'].min(), \"to\", trader_df['date'].max())\n",
    "print(\"Sentiment dates:\", sentiment_df['date'].min(), \"to\", sentiment_df['date'].max())"
   ]
  },
  {
   "cell_type": "markdown",
   "id": "92cb06da-0887-4b55-8fd0-c86e4fc884f4",
   "metadata": {},
   "source": [
    "### Drop Missing Sentiment Rows"
   ]
  },
  {
   "cell_type": "code",
   "execution_count": 18,
   "id": "2e707859-3d5d-4705-8590-35b0f0413ba3",
   "metadata": {},
   "outputs": [
    {
     "name": "stdout",
     "output_type": "stream",
     "text": [
      "Remaining rows: 211218\n",
      "Sentiment values now: ['Extreme Greed' 'Extreme Fear' 'Fear' 'Greed' 'Neutral']\n"
     ]
    }
   ],
   "source": [
    "# Drop rows where sentiment is missing\n",
    "merged_df = merged_df.dropna(subset=['sentiment'])\n",
    "\n",
    "# Confirm the result\n",
    "print(\"Remaining rows:\", merged_df.shape[0])\n",
    "print(\"Sentiment values now:\", merged_df['sentiment'].unique())"
   ]
  },
  {
   "cell_type": "markdown",
   "id": "7906ae35-d54b-453d-8030-6a5cc3a1bffe",
   "metadata": {},
   "source": [
    "### 🧹 Data Cleaning – Drop Missing Sentiment Values\n",
    "\n",
    "Since the sentiment column was not populated for many trades (due to date mismatches), we cleaned the data by dropping all rows where sentiment was still `NaN`.\n",
    "\n",
    "This ensures that all rows used in further analysis have valid sentiment classifications.\n",
    "\n",
    "**Output:**\n",
    "- Remaining rows after cleaning: `211218`\n",
    "- Unique sentiment values found: [e.g., 'Fear', 'Greed', 'Extreme Greed']\n"
   ]
  },
  {
   "cell_type": "markdown",
   "id": "bc2da0df-f1cf-4ee2-8ffc-124471a276ff",
   "metadata": {},
   "source": [
    "---\n",
    "# ✅ SECTION 4: Visualizations – Trader Performance by Sentiment\n",
    "\n",
    "### 🎯 Objective:\n",
    "##### To visually compare how traders perform under different market sentiment conditions.\n",
    "\n",
    "##### We’ll start with:\n",
    "\n",
    "##### Boxplot of PnL by sentiment\n",
    "\n",
    "##### Barplot of average PnL by sentiment"
   ]
  },
  {
   "cell_type": "markdown",
   "id": "7de2f84f-10e3-4571-8cd7-42371a0984af",
   "metadata": {},
   "source": [
    "### 📊 STEP 1: Create Boxplot – PnL Distribution by Sentiment"
   ]
  },
  {
   "cell_type": "code",
   "execution_count": 19,
   "id": "b2bc084a-024a-4d99-b3fe-dd0036905cd3",
   "metadata": {},
   "outputs": [
    {
     "data": {
      "image/png": "[encoded data removed]",
      "text/plain": [
       "<Figure size 1000x600 with 1 Axes>"
      ]
     },
     "metadata": {},
     "output_type": "display_data"
    }
   ],
   "source": [
    "# Create boxplot\n",
    "plt.figure(figsize=(10, 6))\n",
    "sns.boxplot(data=merged_df, x='sentiment', y='pnl')\n",
    "plt.title('📦 Trader PnL Distribution by Market Sentiment')\n",
    "plt.xlabel('Sentiment')\n",
    "plt.ylabel('Profit/Loss (PnL)')\n",
    "plt.xticks(rotation=45)\n",
    "plt.grid(True)\n",
    "plt.show()"
   ]
  },
  {
   "cell_type": "markdown",
   "id": "a8740501-0dc4-46c3-93fa-d6642c3ffde9",
   "metadata": {},
   "source": [
    "### 📦 Boxplot – Trader PnL Distribution by Sentiment\n",
    "\n",
    "This plot shows how profit/loss (PnL) varies under different sentiment regimes.\n",
    "\n",
    "- **Boxes** show the interquartile range (middle 50% of values)\n",
    "- **Lines** represent the median PnL\n",
    "- **Dots** are outliers (very high or very low trades)\n",
    "\n",
    "This helps us identify which sentiment classes are riskier or more profitable on average.\n",
    "\n",
    "We can now move to comparing **average performance** using bar plots.\n"
   ]
  },
  {
   "cell_type": "markdown",
   "id": "bbc265a2-692e-496d-b4cb-4ae3aeab2faf",
   "metadata": {},
   "source": [
    "### 📊 STEP 2: Create Barplot – Average PnL per Sentiment"
   ]
  },
  {
   "cell_type": "code",
   "execution_count": 20,
   "id": "6b9b13bf-f018-4bf0-8b45-190e6a013b03",
   "metadata": {},
   "outputs": [
    {
     "data": {
      "image/png": "[encoded data removed]",
      "text/plain": [
       "<Figure size 800x500 with 1 Axes>"
      ]
     },
     "metadata": {},
     "output_type": "display_data"
    }
   ],
   "source": [
    "# Group to get average PnL per sentiment\n",
    "avg_pnl_by_sentiment = merged_df.groupby('sentiment')['pnl'].mean().reset_index()\n",
    "\n",
    "# Create barplot\n",
    "plt.figure(figsize=(8, 5))\n",
    "sns.barplot(data=avg_pnl_by_sentiment, x='sentiment', y='pnl', palette='Set2')\n",
    "plt.title('📊 Average PnL per Trade by Sentiment')\n",
    "plt.xlabel('Sentiment')\n",
    "plt.ylabel('Average PnL')\n",
    "plt.grid(True)\n",
    "plt.show()"
   ]
  },
  {
   "cell_type": "markdown",
   "id": "de4b7b7d-1e7d-4b18-befc-90aa28e6f174",
   "metadata": {},
   "source": [
    "### 📊 Barplot – Average PnL per Trade by Sentiment\n",
    "\n",
    "This chart highlights the **average profit or loss per trade** for each sentiment class.\n",
    "\n",
    "- A higher average PnL suggests that traders generally perform better during that sentiment\n",
    "- A negative value would indicate poor performance\n",
    "\n",
    "This visualization helps pinpoint which market emotions are most favorable for traders overall."
   ]
  },
  {
   "cell_type": "markdown",
   "id": "b454c63c-96f4-4dab-b00c-78d5763c2c0f",
   "metadata": {},
   "source": [
    "---\n",
    "\n",
    "# 📐 Section 5: ROI & Trader Efficiency Metrics\n",
    "\n",
    "### 🎯 Objective:\n",
    "#### To calculate ROI (Return on Investment) per trade and use it to identify:\n",
    "\n",
    "#### *Top traders by ROI*\n",
    "\n",
    "#### *ROI patterns across sentiment types*"
   ]
  },
  {
   "cell_type": "markdown",
   "id": "10d49ab5-dbc6-4bbf-9fec-e69c68bb4898",
   "metadata": {},
   "source": [
    "### 📊 STEP 1: Calculate ROI (Return on Investment)"
   ]
  },
  {
   "cell_type": "code",
   "execution_count": 21,
   "id": "be8b85ec-a32b-4b0c-9cf3-f986982fdfb1",
   "metadata": {},
   "outputs": [
    {
     "data": {
      "text/html": [
       "<div>\n",
       "<style scoped>\n",
       "    .dataframe tbody tr th:only-of-type {\n",
       "        vertical-align: middle;\n",
       "    }\n",
       "\n",
       "    .dataframe tbody tr th {\n",
       "        vertical-align: top;\n",
       "    }\n",
       "\n",
       "    .dataframe thead th {\n",
       "        text-align: right;\n",
       "    }\n",
       "</style>\n",
       "<table border=\"1\" class=\"dataframe\">\n",
       "  <thead>\n",
       "    <tr style=\"text-align: right;\">\n",
       "      <th></th>\n",
       "      <th>account</th>\n",
       "      <th>sentiment</th>\n",
       "      <th>pnl</th>\n",
       "      <th>Size USD</th>\n",
       "      <th>roi</th>\n",
       "    </tr>\n",
       "  </thead>\n",
       "  <tbody>\n",
       "    <tr>\n",
       "      <th>0</th>\n",
       "      <td>0xae5eacaf9c6b9111fd53034a602c192a04e082ed</td>\n",
       "      <td>Extreme Greed</td>\n",
       "      <td>0.0</td>\n",
       "      <td>7872.16</td>\n",
       "      <td>0.0</td>\n",
       "    </tr>\n",
       "    <tr>\n",
       "      <th>1</th>\n",
       "      <td>0xae5eacaf9c6b9111fd53034a602c192a04e082ed</td>\n",
       "      <td>Extreme Greed</td>\n",
       "      <td>0.0</td>\n",
       "      <td>127.68</td>\n",
       "      <td>0.0</td>\n",
       "    </tr>\n",
       "    <tr>\n",
       "      <th>2</th>\n",
       "      <td>0xae5eacaf9c6b9111fd53034a602c192a04e082ed</td>\n",
       "      <td>Extreme Greed</td>\n",
       "      <td>0.0</td>\n",
       "      <td>1150.63</td>\n",
       "      <td>0.0</td>\n",
       "    </tr>\n",
       "    <tr>\n",
       "      <th>3</th>\n",
       "      <td>0xae5eacaf9c6b9111fd53034a602c192a04e082ed</td>\n",
       "      <td>Extreme Greed</td>\n",
       "      <td>0.0</td>\n",
       "      <td>1142.04</td>\n",
       "      <td>0.0</td>\n",
       "    </tr>\n",
       "    <tr>\n",
       "      <th>4</th>\n",
       "      <td>0xae5eacaf9c6b9111fd53034a602c192a04e082ed</td>\n",
       "      <td>Extreme Greed</td>\n",
       "      <td>0.0</td>\n",
       "      <td>69.75</td>\n",
       "      <td>0.0</td>\n",
       "    </tr>\n",
       "  </tbody>\n",
       "</table>\n",
       "</div>"
      ],
      "text/plain": [
       "                                      account      sentiment  pnl  Size USD  \\\n",
       "0  0xae5eacaf9c6b9111fd53034a602c192a04e082ed  Extreme Greed  0.0   7872.16   \n",
       "1  0xae5eacaf9c6b9111fd53034a602c192a04e082ed  Extreme Greed  0.0    127.68   \n",
       "2  0xae5eacaf9c6b9111fd53034a602c192a04e082ed  Extreme Greed  0.0   1150.63   \n",
       "3  0xae5eacaf9c6b9111fd53034a602c192a04e082ed  Extreme Greed  0.0   1142.04   \n",
       "4  0xae5eacaf9c6b9111fd53034a602c192a04e082ed  Extreme Greed  0.0     69.75   \n",
       "\n",
       "   roi  \n",
       "0  0.0  \n",
       "1  0.0  \n",
       "2  0.0  \n",
       "3  0.0  \n",
       "4  0.0  "
      ]
     },
     "execution_count": 21,
     "metadata": {},
     "output_type": "execute_result"
    }
   ],
   "source": [
    "# Avoid divide-by-zero errors\n",
    "merged_df = merged_df[merged_df['Size USD'] != 0]\n",
    "\n",
    "# Calculate ROI as a percentage\n",
    "merged_df['roi'] = (merged_df['pnl'] / merged_df['Size USD']) * 100\n",
    "\n",
    "# View sample\n",
    "merged_df[['account', 'sentiment', 'pnl', 'Size USD', 'roi']].head()"
   ]
  },
  {
   "cell_type": "markdown",
   "id": "1b5be1dd-b238-4e47-9b0c-ff82bc2d60f5",
   "metadata": {},
   "source": [
    "### 📐 ROI Calculation – Initial Output\n",
    "\n",
    "We calculated ROI (Return on Investment) for each trade using the formula:\n",
    "\n",
    "``ROI = (PnL / Size USD) * 100``\n",
    "\n",
    "The output below shows the first few records from the dataset:\n",
    "\n",
    "| account | sentiment | pnl | Size USD | roi (%) |\n",
    "|---------|-----------|-----|-----------|---------|\n",
    "| 0xae5e... | Extreme Greed | 0.0 | 7872.16 | 0.0 |\n",
    "| 0xae5e... | Extreme Greed | 0.0 | 127.68 | 0.0 |\n",
    "| ... | ... | ... | ... | ... |\n",
    "\n",
    "#### 🔍 Interpretation:\n",
    "- The ROI for these trades is 0% because their `pnl` values are 0 — meaning no gain or loss was made on those trades.\n",
    "- This is just a sample of the dataset. Deeper analysis (like average ROI by sentiment or top ROI traders) will give more meaningful insights across all trades.\n",
    "\n",
    "We'll now proceed to aggregate and visualize ROI across sentiment types to better understand trader efficiency under different market conditions."
   ]
  },
  {
   "cell_type": "markdown",
   "id": "3fa5676e-cd09-4ef0-8a3d-c3d35e1dded3",
   "metadata": {},
   "source": [
    "### 📊 STEP 2: Average ROI by Sentiment"
   ]
  },
  {
   "cell_type": "code",
   "execution_count": 22,
   "id": "2299f62a-d21e-443f-b9cd-4f737c4f1ec2",
   "metadata": {},
   "outputs": [
    {
     "data": {
      "image/png": "[encoded data removed]",
      "text/plain": [
       "<Figure size 800x500 with 1 Axes>"
      ]
     },
     "metadata": {},
     "output_type": "display_data"
    }
   ],
   "source": [
    "# Group by sentiment to get average ROI\n",
    "avg_roi_by_sentiment = merged_df.groupby('sentiment')['roi'].mean().reset_index()\n",
    "\n",
    "# Barplot\n",
    "plt.figure(figsize=(8, 5))\n",
    "sns.barplot(data=avg_roi_by_sentiment, x='sentiment', y='roi', palette='muted')\n",
    "plt.title('📊 Average ROI by Market Sentiment')\n",
    "plt.xlabel('Sentiment')\n",
    "plt.ylabel('Average ROI (%)')\n",
    "plt.grid(True)\n",
    "plt.show()"
   ]
  },
  {
   "cell_type": "markdown",
   "id": "163068a7-46d0-475e-af30-617b50388307",
   "metadata": {},
   "source": [
    "### 📊 ROI Analysis by Sentiment\n",
    "\n",
    "This chart shows the average ROI achieved under each sentiment condition.\n",
    "\n",
    "- A higher ROI during 'Fear' may indicate contrarian traders performing well\n",
    "- Lower ROI under 'Greed' may signal overconfidence or risky behavior\n",
    "\n",
    "ROI gives a better picture than raw PnL, especially across differently sized trades."
   ]
  },
  {
   "cell_type": "markdown",
   "id": "169931c9-df9b-4634-a031-5407f5489716",
   "metadata": {},
   "source": [
    "---\n",
    "\n",
    "# ✅ SECTION 6: Top Traders by ROI – Across Sentiments\n",
    "### 📈 Top Traders by ROI "
   ]
  },
  {
   "cell_type": "code",
   "execution_count": 23,
   "id": "d18e095a-6fcf-4b3a-a3b9-422c51fa2b56",
   "metadata": {},
   "outputs": [
    {
     "data": {
      "text/html": [
       "<div>\n",
       "<style scoped>\n",
       "    .dataframe tbody tr th:only-of-type {\n",
       "        vertical-align: middle;\n",
       "    }\n",
       "\n",
       "    .dataframe tbody tr th {\n",
       "        vertical-align: top;\n",
       "    }\n",
       "\n",
       "    .dataframe thead th {\n",
       "        text-align: right;\n",
       "    }\n",
       "</style>\n",
       "<table border=\"1\" class=\"dataframe\">\n",
       "  <thead>\n",
       "    <tr style=\"text-align: right;\">\n",
       "      <th></th>\n",
       "      <th>account</th>\n",
       "      <th>sentiment</th>\n",
       "      <th>roi</th>\n",
       "      <th>roi_rank</th>\n",
       "    </tr>\n",
       "  </thead>\n",
       "  <tbody>\n",
       "    <tr>\n",
       "      <th>95</th>\n",
       "      <td>0x8170715b3b381dffb7062c0298972d4727a0a63b</td>\n",
       "      <td>Extreme Fear</td>\n",
       "      <td>11.948854</td>\n",
       "      <td>1.0</td>\n",
       "    </tr>\n",
       "    <tr>\n",
       "      <th>80</th>\n",
       "      <td>0x72c6a4624e1dffa724e6d00d64ceae698af892a0</td>\n",
       "      <td>Extreme Fear</td>\n",
       "      <td>9.415146</td>\n",
       "      <td>2.0</td>\n",
       "    </tr>\n",
       "    <tr>\n",
       "      <th>85</th>\n",
       "      <td>0x75f7eeb85dc639d5e99c78f95393aa9a5f1170d4</td>\n",
       "      <td>Extreme Fear</td>\n",
       "      <td>5.299481</td>\n",
       "      <td>3.0</td>\n",
       "    </tr>\n",
       "    <tr>\n",
       "      <th>0</th>\n",
       "      <td>0x083384f897ee0f19899168e3b1bec365f52a9012</td>\n",
       "      <td>Extreme Fear</td>\n",
       "      <td>5.255337</td>\n",
       "      <td>4.0</td>\n",
       "    </tr>\n",
       "    <tr>\n",
       "      <th>20</th>\n",
       "      <td>0x2c229d22b100a7beb69122eed721cee9b24011dd</td>\n",
       "      <td>Extreme Fear</td>\n",
       "      <td>5.014135</td>\n",
       "      <td>5.0</td>\n",
       "    </tr>\n",
       "    <tr>\n",
       "      <th>75</th>\n",
       "      <td>0x72743ae2822edd658c0c50608fd7c5c501b2afbd</td>\n",
       "      <td>Extreme Fear</td>\n",
       "      <td>1.454093</td>\n",
       "      <td>6.0</td>\n",
       "    </tr>\n",
       "    <tr>\n",
       "      <th>55</th>\n",
       "      <td>0x4acb90e786d897ecffb614dc822eb231b4ffb9f4</td>\n",
       "      <td>Extreme Fear</td>\n",
       "      <td>1.362316</td>\n",
       "      <td>7.0</td>\n",
       "    </tr>\n",
       "    <tr>\n",
       "      <th>142</th>\n",
       "      <td>0xbaaaf6571ab7d571043ff1e313a9609a10637864</td>\n",
       "      <td>Extreme Fear</td>\n",
       "      <td>1.269953</td>\n",
       "      <td>8.0</td>\n",
       "    </tr>\n",
       "    <tr>\n",
       "      <th>70</th>\n",
       "      <td>0x6d6a4b953f202f8df5bed40692e7fd865318264a</td>\n",
       "      <td>Extreme Fear</td>\n",
       "      <td>1.089144</td>\n",
       "      <td>9.0</td>\n",
       "    </tr>\n",
       "    <tr>\n",
       "      <th>40</th>\n",
       "      <td>0x420ab45e0bd8863569a5efbb9c05d91f40624641</td>\n",
       "      <td>Extreme Fear</td>\n",
       "      <td>0.930606</td>\n",
       "      <td>10.0</td>\n",
       "    </tr>\n",
       "  </tbody>\n",
       "</table>\n",
       "</div>"
      ],
      "text/plain": [
       "                                        account     sentiment        roi  \\\n",
       "95   0x8170715b3b381dffb7062c0298972d4727a0a63b  Extreme Fear  11.948854   \n",
       "80   0x72c6a4624e1dffa724e6d00d64ceae698af892a0  Extreme Fear   9.415146   \n",
       "85   0x75f7eeb85dc639d5e99c78f95393aa9a5f1170d4  Extreme Fear   5.299481   \n",
       "0    0x083384f897ee0f19899168e3b1bec365f52a9012  Extreme Fear   5.255337   \n",
       "20   0x2c229d22b100a7beb69122eed721cee9b24011dd  Extreme Fear   5.014135   \n",
       "75   0x72743ae2822edd658c0c50608fd7c5c501b2afbd  Extreme Fear   1.454093   \n",
       "55   0x4acb90e786d897ecffb614dc822eb231b4ffb9f4  Extreme Fear   1.362316   \n",
       "142  0xbaaaf6571ab7d571043ff1e313a9609a10637864  Extreme Fear   1.269953   \n",
       "70   0x6d6a4b953f202f8df5bed40692e7fd865318264a  Extreme Fear   1.089144   \n",
       "40   0x420ab45e0bd8863569a5efbb9c05d91f40624641  Extreme Fear   0.930606   \n",
       "\n",
       "     roi_rank  \n",
       "95        1.0  \n",
       "80        2.0  \n",
       "85        3.0  \n",
       "0         4.0  \n",
       "20        5.0  \n",
       "75        6.0  \n",
       "55        7.0  \n",
       "142       8.0  \n",
       "70        9.0  \n",
       "40       10.0  "
      ]
     },
     "execution_count": 23,
     "metadata": {},
     "output_type": "execute_result"
    }
   ],
   "source": [
    "# Average ROI per trader per sentiment\n",
    "roi_ranking = merged_df.groupby(['account', 'sentiment'])['roi'].mean().reset_index()\n",
    "\n",
    "# Rank within each sentiment group\n",
    "roi_ranking['roi_rank'] = roi_ranking.groupby('sentiment')['roi'].rank(ascending=False)\n",
    "\n",
    "# Top 5 ROI traders in 'Extreme Fear'\n",
    "roi_ranking[(roi_ranking['sentiment'] == 'Extreme Fear')].sort_values(by='roi_rank').head(10)"
   ]
  },
  {
   "cell_type": "markdown",
   "id": "dff45f03-d8c3-4993-a0c7-78be4a11e4e1",
   "metadata": {},
   "source": [
    "### 🏆 Top 5 Traders by ROI – Extreme Fear Sentiment\n",
    "\n",
    "We calculated the average **Return on Investment (ROI)** for each trader under each sentiment regime. Then we ranked them within each sentiment category to identify top performers.\n",
    "\n",
    "Below are the top 5 traders during periods of **Extreme Fear**:\n",
    "\n",
    "| Rank | Trader Account | Avg ROI (%) |\n",
    "|------|----------------|-------------|\n",
    "| 1 | 0x8170715b3b381dffb7062c0298972d4727a0a63b | 11.95 |\n",
    "| 2 | 0x72c6a4624e1dffa724e6d00d64ceae698af892a0 | 9.42 |\n",
    "| 3 | 0x75f7eeb85dc639d5e99c78f95393aa9a5f1170d4 | 5.30 |\n",
    "| 4 | 0x083384f897ee0f19899168e3b1bec365f52a9012 | 5.26 |\n",
    "| 5 | 0x2c229d22b100a7beb69122eed721cee9b24011dd | 5.01 |\n",
    "\n",
    "#### 🔍 Interpretation:\n",
    "- These traders were able to generate positive returns even during **market fear** and uncertainty.\n",
    "- The highest ROI observed was nearly **12%**, which is significant under bearish sentiment.\n",
    "- This analysis can help identify **contrarian strategies** or **stable performers** during high-risk phases.\n",
    "\n",
    "Next, we can expand this analysis to include other sentiment classes or visualize ROI across sentiments.\n"
   ]
  },
  {
   "cell_type": "markdown",
   "id": "4b2c0e21-c0ff-4595-8e72-3cd04f007e39",
   "metadata": {},
   "source": [
    "### 📊 Extract Top 5 ROI Traders Per Sentiment\n",
    "We’ll loop through each unique sentiment and collect the top 5 traders based on average ROI."
   ]
  },
  {
   "cell_type": "code",
   "execution_count": 24,
   "id": "dd79ec06-52c4-49bb-a797-f98718cb9dd4",
   "metadata": {},
   "outputs": [
    {
     "data": {
      "text/html": [
       "<div>\n",
       "<style scoped>\n",
       "    .dataframe tbody tr th:only-of-type {\n",
       "        vertical-align: middle;\n",
       "    }\n",
       "\n",
       "    .dataframe tbody tr th {\n",
       "        vertical-align: top;\n",
       "    }\n",
       "\n",
       "    .dataframe thead th {\n",
       "        text-align: right;\n",
       "    }\n",
       "</style>\n",
       "<table border=\"1\" class=\"dataframe\">\n",
       "  <thead>\n",
       "    <tr style=\"text-align: right;\">\n",
       "      <th></th>\n",
       "      <th>account</th>\n",
       "      <th>sentiment</th>\n",
       "      <th>roi</th>\n",
       "      <th>roi_rank</th>\n",
       "    </tr>\n",
       "  </thead>\n",
       "  <tbody>\n",
       "    <tr>\n",
       "      <th>0</th>\n",
       "      <td>0x8170715b3b381dffb7062c0298972d4727a0a63b</td>\n",
       "      <td>Extreme Fear</td>\n",
       "      <td>11.948854</td>\n",
       "      <td>1.0</td>\n",
       "    </tr>\n",
       "    <tr>\n",
       "      <th>1</th>\n",
       "      <td>0x72c6a4624e1dffa724e6d00d64ceae698af892a0</td>\n",
       "      <td>Extreme Fear</td>\n",
       "      <td>9.415146</td>\n",
       "      <td>2.0</td>\n",
       "    </tr>\n",
       "    <tr>\n",
       "      <th>2</th>\n",
       "      <td>0x75f7eeb85dc639d5e99c78f95393aa9a5f1170d4</td>\n",
       "      <td>Extreme Fear</td>\n",
       "      <td>5.299481</td>\n",
       "      <td>3.0</td>\n",
       "    </tr>\n",
       "    <tr>\n",
       "      <th>3</th>\n",
       "      <td>0x083384f897ee0f19899168e3b1bec365f52a9012</td>\n",
       "      <td>Extreme Fear</td>\n",
       "      <td>5.255337</td>\n",
       "      <td>4.0</td>\n",
       "    </tr>\n",
       "    <tr>\n",
       "      <th>4</th>\n",
       "      <td>0x2c229d22b100a7beb69122eed721cee9b24011dd</td>\n",
       "      <td>Extreme Fear</td>\n",
       "      <td>5.014135</td>\n",
       "      <td>5.0</td>\n",
       "    </tr>\n",
       "    <tr>\n",
       "      <th>5</th>\n",
       "      <td>0x430f09841d65beb3f27765503d0f850b8bce7713</td>\n",
       "      <td>Extreme Greed</td>\n",
       "      <td>99.999109</td>\n",
       "      <td>1.0</td>\n",
       "    </tr>\n",
       "    <tr>\n",
       "      <th>6</th>\n",
       "      <td>0x6d6a4b953f202f8df5bed40692e7fd865318264a</td>\n",
       "      <td>Extreme Greed</td>\n",
       "      <td>67.387134</td>\n",
       "      <td>2.0</td>\n",
       "    </tr>\n",
       "    <tr>\n",
       "      <th>7</th>\n",
       "      <td>0xa520ded057a32086c40e7dd6ed4eb8efb82c00e0</td>\n",
       "      <td>Extreme Greed</td>\n",
       "      <td>30.925803</td>\n",
       "      <td>3.0</td>\n",
       "    </tr>\n",
       "    <tr>\n",
       "      <th>8</th>\n",
       "      <td>0xb1231a4a2dd02f2276fa3c5e2a2f3436e6bfed23</td>\n",
       "      <td>Extreme Greed</td>\n",
       "      <td>30.450695</td>\n",
       "      <td>4.0</td>\n",
       "    </tr>\n",
       "    <tr>\n",
       "      <th>9</th>\n",
       "      <td>0x271b280974205ca63b716753467d5a371de622ab</td>\n",
       "      <td>Extreme Greed</td>\n",
       "      <td>20.158589</td>\n",
       "      <td>5.0</td>\n",
       "    </tr>\n",
       "  </tbody>\n",
       "</table>\n",
       "</div>"
      ],
      "text/plain": [
       "                                      account      sentiment        roi  \\\n",
       "0  0x8170715b3b381dffb7062c0298972d4727a0a63b   Extreme Fear  11.948854   \n",
       "1  0x72c6a4624e1dffa724e6d00d64ceae698af892a0   Extreme Fear   9.415146   \n",
       "2  0x75f7eeb85dc639d5e99c78f95393aa9a5f1170d4   Extreme Fear   5.299481   \n",
       "3  0x083384f897ee0f19899168e3b1bec365f52a9012   Extreme Fear   5.255337   \n",
       "4  0x2c229d22b100a7beb69122eed721cee9b24011dd   Extreme Fear   5.014135   \n",
       "5  0x430f09841d65beb3f27765503d0f850b8bce7713  Extreme Greed  99.999109   \n",
       "6  0x6d6a4b953f202f8df5bed40692e7fd865318264a  Extreme Greed  67.387134   \n",
       "7  0xa520ded057a32086c40e7dd6ed4eb8efb82c00e0  Extreme Greed  30.925803   \n",
       "8  0xb1231a4a2dd02f2276fa3c5e2a2f3436e6bfed23  Extreme Greed  30.450695   \n",
       "9  0x271b280974205ca63b716753467d5a371de622ab  Extreme Greed  20.158589   \n",
       "\n",
       "   roi_rank  \n",
       "0       1.0  \n",
       "1       2.0  \n",
       "2       3.0  \n",
       "3       4.0  \n",
       "4       5.0  \n",
       "5       1.0  \n",
       "6       2.0  \n",
       "7       3.0  \n",
       "8       4.0  \n",
       "9       5.0  "
      ]
     },
     "execution_count": 24,
     "metadata": {},
     "output_type": "execute_result"
    }
   ],
   "source": [
    "# Create an empty list to hold top 5 traders from each sentiment\n",
    "top_traders_all = []\n",
    "\n",
    "# Loop through each sentiment class\n",
    "for sentiment in roi_ranking['sentiment'].unique():\n",
    "    top_5 = roi_ranking[roi_ranking['sentiment'] == sentiment].nsmallest(5, 'roi_rank')\n",
    "    top_traders_all.append(top_5)\n",
    "\n",
    "# Combine into a single dataframe\n",
    "top_traders_df = pd.concat(top_traders_all, ignore_index=True)\n",
    "\n",
    "# Preview\n",
    "top_traders_df.head(10)"
   ]
  },
  {
   "cell_type": "markdown",
   "id": "5710add4-ed45-4104-a119-5eba58331dba",
   "metadata": {},
   "source": [
    "### 🏆 Final Top 5 ROI Traders – All Sentiments\n",
    "\n",
    "We extracted the top 5 traders based on **average ROI** for each sentiment category. The result shows the most efficient traders in:\n",
    "\n",
    "- Extreme Fear\n",
    "- Fear\n",
    "- Neutral\n",
    "- Greed\n",
    "- Extreme Greed\n",
    "\n",
    "The first 5 rows displayed belong to the **Extreme Fear** sentiment class (as it appears first alphabetically). To explore the full result across all sentiments, we can display the entire dataframe or sort it by sentiment manually.\n",
    "\n",
    "This dataset will now be visualized to compare trader efficiency across emotions using a grouped bar plot."
   ]
  },
  {
   "cell_type": "markdown",
   "id": "c267a5ff-c9be-4a9f-a2bf-5f2204819b0b",
   "metadata": {},
   "source": [
    "### 📊 Visualize Top Trader ROI Across Sentiments"
   ]
  },
  {
   "cell_type": "code",
   "execution_count": 25,
   "id": "94da4626-f133-4d61-9964-8e4616a22cc8",
   "metadata": {},
   "outputs": [
    {
     "data": {
      "image/png": "[encoded data removed]",
      "text/plain": [
       "<Figure size 1200x600 with 1 Axes>"
      ]
     },
     "metadata": {},
     "output_type": "display_data"
    }
   ],
   "source": [
    "# Sort for better visual grouping\n",
    "top_traders_df.sort_values(by='sentiment', inplace=True)\n",
    "\n",
    "# Plot\n",
    "plt.figure(figsize=(12, 6))\n",
    "sns.barplot(data=top_traders_df, x='sentiment', y='roi', hue='account', palette='tab10')\n",
    "\n",
    "plt.title('🏆 Top 5 ROI Traders Across Sentiments')\n",
    "plt.ylabel('Average ROI (%)')\n",
    "plt.xlabel('Sentiment')\n",
    "plt.xticks(rotation=45)\n",
    "plt.legend(bbox_to_anchor=(1.05, 1), loc='upper left', title='Trader Account')\n",
    "plt.tight_layout()\n",
    "plt.show()"
   ]
  },
  {
   "cell_type": "markdown",
   "id": "38d6881b-f9f7-4118-b423-f3518224a34d",
   "metadata": {},
   "source": [
    "### 📊 Bar Plot – Top Trader ROI by Sentiment\n",
    "\n",
    "This bar chart displays the **top 5 traders by average ROI** under each sentiment class:\n",
    "\n",
    "- The x-axis shows different market sentiments\n",
    "- The bars represent ROI%\n",
    "- Each color represents a unique trader\n",
    "\n",
    "#### 🔍 Insights:\n",
    "- Some traders appear consistently across multiple sentiment classes.\n",
    "- ROI tends to vary more widely in **Extreme sentiments** (Greed).\n",
    "- Neutral periods show more modest, stable ROI values — suggesting risk-averse behavior.\n",
    "\n",
    "This visual helps identify which market conditions certain traders thrive in and how efficiently they use capital."
   ]
  },
  {
   "cell_type": "markdown",
   "id": "0cfefd06-4cdf-45e1-8a5e-54a61dfc9c68",
   "metadata": {},
   "source": [
    "---\n",
    "\n",
    "# 🧾 Final Summary & Insights\n",
    "\n",
    "### 🔍 Objective Recap:\n",
    "This project aimed to uncover how **Bitcoin market sentiment** (Fear, Greed, Extreme conditions) influences **trader behavior and performance** using:\n",
    "\n",
    "- 📊 Historical trader data (200K+ records)\n",
    "- 🧠 Bitcoin sentiment index (Fear-Greed classification)\n",
    "\n",
    "---\n",
    "\n",
    "### 📊 Key Findings:\n",
    "\n",
    "#### 1. ✅ **Sentiment Affects Trading Outcomes**\n",
    "- Average **PnL and ROI** vary significantly across different sentiment types.\n",
    "- Some traders consistently generate **positive ROI** during emotionally extreme markets like *Extreme Fear* — showing possible **contrarian strength**.\n",
    "\n",
    "#### 2. 🧠 **ROI is a better metric than raw PnL**\n",
    "- ROI helped normalize performance across trades of different sizes.\n",
    "- Top ROI traders weren't necessarily those with the highest total profits — they were more **capital-efficient**.\n",
    "\n",
    "#### 3. 🏆 **Top Traders Identified**\n",
    "- We ranked traders under each sentiment class.\n",
    "- Some accounts performed consistently well across **multiple sentiments**, highlighting strategy robustness.\n",
    "\n",
    "#### 4. 📦 **Market Risk & Opportunity Zones**\n",
    "- Traders showed higher variability and outliers in PnL during *Extreme Greed* and *Fear* phases — suggesting **more risk** but also **higher potential reward**.\n",
    "\n",
    "---\n",
    "\n",
    "## 📌 Conclusion:\n",
    "\n",
    "This analysis shows a **strong correlation between market sentiment and trading performance**. Incorporating sentiment analysis into trading strategies can:\n",
    "\n",
    "- Help identify **optimal trading windows**\n",
    "- Detect **top-performing traders** under different conditions\n",
    "- Inform **risk management decisions**\n",
    "\n",
    "---\n",
    "\n",
    "## 💡 Actionable Recommendations:\n",
    "\n",
    "- 📈 Use **sentiment-aware algorithms** in trader ranking systems or bots.\n",
    "- 🧪 Investigate behavior of consistently top ROI traders to uncover repeatable strategies.\n",
    "- 🎯 Extend the analysis to include **Sharpe ratio, drawdown, and win rate** for more comprehensive performance evaluation.\n",
    "- 📊 Deploy this as an interactive dashboard using **Streamlit** or **Tableau** for stakeholder use.\n",
    "\n",
    "---\n",
    "\n"
   ]
  },
  {
   "cell_type": "code",
   "execution_count": null,
   "id": "c76c47ee-1775-40ca-8fa4-dcea112b50e9",
   "metadata": {},
   "outputs": [],
   "source": []
  },
  {
   "cell_type": "code",
   "execution_count": null,
   "id": "02a19ec8-cc89-4fff-817b-c2f65c877966",
   "metadata": {},
   "outputs": [],
   "source": []
  }
 ],
 "metadata": {
  "kernelspec": {
   "display_name": "Python 3 (ipykernel)",
   "language": "python",
   "name": "python3"
  },
  "language_info": {
   "codemirror_mode": {
    "name": "ipython",
    "version": 3
   },
   "file_extension": ".py",
   "mimetype": "text/x-python",
   "name": "python",
   "nbconvert_exporter": "python",
   "pygments_lexer": "ipython3",
   "version": "3.12.7"
  }
 },
 "nbformat": 4,
 "nbformat_minor": 5
}
